{
 "cells": [
  {
   "cell_type": "code",
   "execution_count": 1,
   "metadata": {},
   "outputs": [],
   "source": [
    "import sys\n",
    "sys.path.append('../src')"
   ]
  },
  {
   "cell_type": "code",
   "execution_count": 2,
   "metadata": {},
   "outputs": [],
   "source": [
    "import indeed_to_df as indeed"
   ]
  },
  {
   "cell_type": "code",
   "execution_count": 3,
   "metadata": {},
   "outputs": [],
   "source": [
    "# help(indeed)"
   ]
  },
  {
   "cell_type": "code",
   "execution_count": 4,
   "metadata": {},
   "outputs": [],
   "source": [
    "id_num_pages = 10\n",
    "id_query = 'software engineer'\n",
    "id_search_location = 'Chicago, IL'\n",
    "indeed_df = indeed.indeed_main(id_num_pages, id_query, id_search_location)"
   ]
  },
  {
   "cell_type": "code",
   "execution_count": 5,
   "metadata": {},
   "outputs": [
    {
     "data": {
      "text/html": [
       "<div>\n",
       "<style scoped>\n",
       "    .dataframe tbody tr th:only-of-type {\n",
       "        vertical-align: middle;\n",
       "    }\n",
       "\n",
       "    .dataframe tbody tr th {\n",
       "        vertical-align: top;\n",
       "    }\n",
       "\n",
       "    .dataframe thead th {\n",
       "        text-align: right;\n",
       "    }\n",
       "</style>\n",
       "<table border=\"1\" class=\"dataframe\">\n",
       "  <thead>\n",
       "    <tr style=\"text-align: right;\">\n",
       "      <th></th>\n",
       "      <th>company</th>\n",
       "      <th>date</th>\n",
       "      <th>location</th>\n",
       "      <th>salary</th>\n",
       "      <th>summary</th>\n",
       "      <th>title</th>\n",
       "      <th>url</th>\n",
       "      <th>source</th>\n",
       "    </tr>\n",
       "  </thead>\n",
       "  <tbody>\n",
       "    <tr>\n",
       "      <th>0</th>\n",
       "      <td>Lionbridge Technologies</td>\n",
       "      <td>5 hours ago</td>\n",
       "      <td>Northbrook, IL</td>\n",
       "      <td>$75,000 - $100,000 a year (Indeed est.)</td>\n",
       "      <td>Senior Software Developer. Technically fluent ...</td>\n",
       "      <td>Senior Software Developer</td>\n",
       "      <td>http://indeed.com/rc/clk?jk=debb8cde9f8743f6&amp;f...</td>\n",
       "      <td>Indeed</td>\n",
       "    </tr>\n",
       "    <tr>\n",
       "      <th>1</th>\n",
       "      <td>Lionbridge Technologies</td>\n",
       "      <td>5 hours ago</td>\n",
       "      <td>Roselle, IL</td>\n",
       "      <td>Nothing_found</td>\n",
       "      <td>Strong Java (OSGi, JSP, Servlets) and web deve...</td>\n",
       "      <td>AEM</td>\n",
       "      <td>http://indeed.com/rc/clk?jk=271e8009210632ca&amp;f...</td>\n",
       "      <td>Indeed</td>\n",
       "    </tr>\n",
       "    <tr>\n",
       "      <th>2</th>\n",
       "      <td>Milhouse Engineering &amp; Construction</td>\n",
       "      <td>4 hours ago</td>\n",
       "      <td>Chicago, IL</td>\n",
       "      <td>$19 - $29 an hour (Indeed est.)</td>\n",
       "      <td>Proficient in Microsoft Windows, Word, and Exc...</td>\n",
       "      <td>CAD Technician II-III</td>\n",
       "      <td>http://indeed.com/company/Milhouse-Engineering...</td>\n",
       "      <td>Indeed</td>\n",
       "    </tr>\n",
       "    <tr>\n",
       "      <th>3</th>\n",
       "      <td>Grainger</td>\n",
       "      <td>10 hours ago</td>\n",
       "      <td>Chicago, IL</td>\n",
       "      <td>$59,000 - $87,000 a year (Indeed est.)</td>\n",
       "      <td>You will help develop embedded solutions using...</td>\n",
       "      <td>Data Scientist</td>\n",
       "      <td>http://indeed.com/rc/clk?jk=7a6c610d586cb021&amp;f...</td>\n",
       "      <td>Indeed</td>\n",
       "    </tr>\n",
       "    <tr>\n",
       "      <th>4</th>\n",
       "      <td>Alt Shift USA</td>\n",
       "      <td>18 hours ago</td>\n",
       "      <td>Chicago, IL</td>\n",
       "      <td>Nothing_found</td>\n",
       "      <td>Experience in Java, Spring, Spring boot, Apach...</td>\n",
       "      <td>Kafka Admin</td>\n",
       "      <td>http://indeed.com/rc/clk?jk=73b87573aac04052&amp;f...</td>\n",
       "      <td>Indeed</td>\n",
       "    </tr>\n",
       "  </tbody>\n",
       "</table>\n",
       "</div>"
      ],
      "text/plain": [
       "                               company          date        location  \\\n",
       "0              Lionbridge Technologies   5 hours ago  Northbrook, IL   \n",
       "1              Lionbridge Technologies   5 hours ago     Roselle, IL   \n",
       "2  Milhouse Engineering & Construction   4 hours ago     Chicago, IL   \n",
       "3                             Grainger  10 hours ago     Chicago, IL   \n",
       "4                        Alt Shift USA  18 hours ago     Chicago, IL   \n",
       "\n",
       "                                    salary  \\\n",
       "0  $75,000 - $100,000 a year (Indeed est.)   \n",
       "1                            Nothing_found   \n",
       "2          $19 - $29 an hour (Indeed est.)   \n",
       "3   $59,000 - $87,000 a year (Indeed est.)   \n",
       "4                            Nothing_found   \n",
       "\n",
       "                                             summary  \\\n",
       "0  Senior Software Developer. Technically fluent ...   \n",
       "1  Strong Java (OSGi, JSP, Servlets) and web deve...   \n",
       "2  Proficient in Microsoft Windows, Word, and Exc...   \n",
       "3  You will help develop embedded solutions using...   \n",
       "4  Experience in Java, Spring, Spring boot, Apach...   \n",
       "\n",
       "                       title  \\\n",
       "0  Senior Software Developer   \n",
       "1                        AEM   \n",
       "2      CAD Technician II-III   \n",
       "3             Data Scientist   \n",
       "4                Kafka Admin   \n",
       "\n",
       "                                                 url  source  \n",
       "0  http://indeed.com/rc/clk?jk=debb8cde9f8743f6&f...  Indeed  \n",
       "1  http://indeed.com/rc/clk?jk=271e8009210632ca&f...  Indeed  \n",
       "2  http://indeed.com/company/Milhouse-Engineering...  Indeed  \n",
       "3  http://indeed.com/rc/clk?jk=7a6c610d586cb021&f...  Indeed  \n",
       "4  http://indeed.com/rc/clk?jk=73b87573aac04052&f...  Indeed  "
      ]
     },
     "execution_count": 5,
     "metadata": {},
     "output_type": "execute_result"
    }
   ],
   "source": [
    "indeed_df.head()"
   ]
  },
  {
   "cell_type": "code",
   "execution_count": 6,
   "metadata": {},
   "outputs": [
    {
     "data": {
      "text/plain": [
       "(190, 8)"
      ]
     },
     "execution_count": 6,
     "metadata": {},
     "output_type": "execute_result"
    }
   ],
   "source": [
    "indeed_df.shape"
   ]
  },
  {
   "cell_type": "markdown",
   "metadata": {},
   "source": [
    "# Monster dev"
   ]
  },
  {
   "cell_type": "code",
   "execution_count": 9,
   "metadata": {},
   "outputs": [],
   "source": [
    "import requests\n",
    "import bs4\n",
    "from bs4 import BeautifulSoup as bs\n",
    "import pandas as pd\n",
    "import json\n",
    "from datetime import datetime\n",
    "from time import time"
   ]
  },
  {
   "cell_type": "code",
   "execution_count": 18,
   "metadata": {},
   "outputs": [],
   "source": [
    "def format_url(query, location, jobid=False):\n",
    "    if jobid:\n",
    "        url_job_id = '&jobid=' + jobid\n",
    "    else:\n",
    "        url_job_id = ''\n",
    "\n",
    "    url = 'https://www.monster.com/jobs/search/?q={}&where={}{}'.format(query.replace(' ', '-'), location.replace(' ', '-').replace(',', 'C'), url_job_id)\n",
    "    return url"
   ]
  },
  {
   "cell_type": "code",
   "execution_count": 19,
   "metadata": {},
   "outputs": [],
   "source": [
    "query = 'software engineer'\n",
    "location = 'Chicago, IL'\n",
    "jobid = False"
   ]
  },
  {
   "cell_type": "code",
   "execution_count": 20,
   "metadata": {},
   "outputs": [],
   "source": [
    "url = format_url(query, location)"
   ]
  },
  {
   "cell_type": "code",
   "execution_count": 23,
   "metadata": {},
   "outputs": [
    {
     "data": {
      "text/plain": [
       "'https://www.monster.com/jobs/search/?q=software-engineer&where=ChicagoC-IL'"
      ]
     },
     "execution_count": 23,
     "metadata": {},
     "output_type": "execute_result"
    }
   ],
   "source": [
    "url"
   ]
  },
  {
   "cell_type": "code",
   "execution_count": 65,
   "metadata": {},
   "outputs": [],
   "source": [
    "def get_job_ids(url):\n",
    "    r = requests.get(url).text\n",
    "    job_ids = [x.split('\"')[0] for x in r.split('data-jobid=\"')[1:]]\n",
    "    return job_ids"
   ]
  },
  {
   "cell_type": "code",
   "execution_count": 68,
   "metadata": {},
   "outputs": [],
   "source": [
    "urls = [format_url(query, location, jobid=x) for x in get_job_ids(url)]"
   ]
  },
  {
   "cell_type": "code",
   "execution_count": 69,
   "metadata": {},
   "outputs": [
    {
     "data": {
      "text/plain": [
       "['https://www.monster.com/jobs/search/?q=software-engineer&where=ChicagoC-IL&jobid=cd3ef41d-e739-42a1-8b74-b740ce46f576',\n",
       " 'https://www.monster.com/jobs/search/?q=software-engineer&where=ChicagoC-IL&jobid=90100227-3d45-4897-af50-68025012e835',\n",
       " 'https://www.monster.com/jobs/search/?q=software-engineer&where=ChicagoC-IL&jobid=8eea79a1-6d89-4d0a-9dad-8354ed078a4e',\n",
       " 'https://www.monster.com/jobs/search/?q=software-engineer&where=ChicagoC-IL&jobid=207767131',\n",
       " 'https://www.monster.com/jobs/search/?q=software-engineer&where=ChicagoC-IL&jobid=207306857',\n",
       " 'https://www.monster.com/jobs/search/?q=software-engineer&where=ChicagoC-IL&jobid=207673201',\n",
       " 'https://www.monster.com/jobs/search/?q=software-engineer&where=ChicagoC-IL&jobid=206989009',\n",
       " 'https://www.monster.com/jobs/search/?q=software-engineer&where=ChicagoC-IL&jobid=207379153',\n",
       " 'https://www.monster.com/jobs/search/?q=software-engineer&where=ChicagoC-IL&jobid=207736827',\n",
       " 'https://www.monster.com/jobs/search/?q=software-engineer&where=ChicagoC-IL&jobid=207744068',\n",
       " 'https://www.monster.com/jobs/search/?q=software-engineer&where=ChicagoC-IL&jobid=207254560',\n",
       " 'https://www.monster.com/jobs/search/?q=software-engineer&where=ChicagoC-IL&jobid=190161780',\n",
       " 'https://www.monster.com/jobs/search/?q=software-engineer&where=ChicagoC-IL&jobid=206099647',\n",
       " 'https://www.monster.com/jobs/search/?q=software-engineer&where=ChicagoC-IL&jobid=206425547',\n",
       " 'https://www.monster.com/jobs/search/?q=software-engineer&where=ChicagoC-IL&jobid=206020135',\n",
       " 'https://www.monster.com/jobs/search/?q=software-engineer&where=ChicagoC-IL&jobid=348eae02-e95d-41bd-bc7f-31008ee05f39',\n",
       " 'https://www.monster.com/jobs/search/?q=software-engineer&where=ChicagoC-IL&jobid=207341947',\n",
       " 'https://www.monster.com/jobs/search/?q=software-engineer&where=ChicagoC-IL&jobid=207745684',\n",
       " 'https://www.monster.com/jobs/search/?q=software-engineer&where=ChicagoC-IL&jobid=207728819',\n",
       " 'https://www.monster.com/jobs/search/?q=software-engineer&where=ChicagoC-IL&jobid=207349943',\n",
       " 'https://www.monster.com/jobs/search/?q=software-engineer&where=ChicagoC-IL&jobid=207705361',\n",
       " 'https://www.monster.com/jobs/search/?q=software-engineer&where=ChicagoC-IL&jobid=207242494',\n",
       " 'https://www.monster.com/jobs/search/?q=software-engineer&where=ChicagoC-IL&jobid=207653755',\n",
       " 'https://www.monster.com/jobs/search/?q=software-engineer&where=ChicagoC-IL&jobid=207683719',\n",
       " 'https://www.monster.com/jobs/search/?q=software-engineer&where=ChicagoC-IL&jobid=207617695',\n",
       " 'https://www.monster.com/jobs/search/?q=software-engineer&where=ChicagoC-IL&jobid=207634686']"
      ]
     },
     "execution_count": 69,
     "metadata": {},
     "output_type": "execute_result"
    }
   ],
   "source": [
    "urls"
   ]
  },
  {
   "cell_type": "markdown",
   "metadata": {},
   "source": [
    "## TO DO\n",
    "1. go to each url using requests.get(url)\n",
    "- parse the job information from the page for the active job as a dictionary\n",
    "- append the dictionary to a list of dictionaries\n",
    "- pd.DataFrame(list of dicts)\n",
    "- add source column to the df ('Monster')"
   ]
  },
  {
   "cell_type": "code",
   "execution_count": null,
   "metadata": {},
   "outputs": [],
   "source": []
  }
 ],
 "metadata": {
  "kernelspec": {
   "display_name": "Python 3",
   "language": "python",
   "name": "python3"
  },
  "language_info": {
   "codemirror_mode": {
    "name": "ipython",
    "version": 3
   },
   "file_extension": ".py",
   "mimetype": "text/x-python",
   "name": "python",
   "nbconvert_exporter": "python",
   "pygments_lexer": "ipython3",
   "version": "3.7.1"
  }
 },
 "nbformat": 4,
 "nbformat_minor": 2
}
