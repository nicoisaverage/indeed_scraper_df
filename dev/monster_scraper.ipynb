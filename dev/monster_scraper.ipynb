{
 "cells": [
  {
   "cell_type": "code",
   "execution_count": 1,
   "metadata": {},
   "outputs": [],
   "source": [
    "import sys\n",
    "sys.path.append('../src')"
   ]
  },
  {
   "cell_type": "code",
   "execution_count": 5,
   "metadata": {},
   "outputs": [],
   "source": [
    "import indeed_to_df\n",
    "from indeed_to_df import *"
   ]
  },
  {
   "cell_type": "code",
   "execution_count": 6,
   "metadata": {},
   "outputs": [
    {
     "name": "stdout",
     "output_type": "stream",
     "text": [
      "Help on module indeed_to_df:\n",
      "\n",
      "NAME\n",
      "    indeed_to_df\n",
      "\n",
      "FUNCTIONS\n",
      "    extract_companies(soup)\n",
      "    \n",
      "    extract_dates(soup)\n",
      "    \n",
      "    extract_job_titles(soup)\n",
      "    \n",
      "    extract_locations(soup)\n",
      "    \n",
      "    extract_salaries(soup)\n",
      "    \n",
      "    extract_summaries(soup)\n",
      "    \n",
      "    extract_urls(soup)\n",
      "    \n",
      "    indeed_main(num_pages, query, search_location)\n",
      "    \n",
      "    list_page_soups(num_pages, query, location)\n",
      "    \n",
      "    time(...)\n",
      "        time() -> floating point number\n",
      "        \n",
      "        Return the current time in seconds since the Epoch.\n",
      "        Fractions of a second may be present if the system clock provides them.\n",
      "    \n",
      "    to_json(titles, companies, locations, salaries, summaries, urls, dates, search_location)\n",
      "\n",
      "FILE\n",
      "    c:\\users\\fires\\documents\\github\\indeed_scraper_df\\src\\indeed_to_df.py\n",
      "\n",
      "\n"
     ]
    }
   ],
   "source": [
    "help(indeed_to_df)"
   ]
  },
  {
   "cell_type": "code",
   "execution_count": 7,
   "metadata": {},
   "outputs": [],
   "source": [
    "query = 'software engineer'\n",
    "location = 'Chicago, IL'\n",
    "jobid = False\n",
    "\n",
    "if jobid:\n",
    "    url_job_id = '&jobid=' + jobid\n",
    "else:\n",
    "    url_job_id = ''\n",
    "    \n",
    "url = 'https://www.monster.com/jobs/search/?q={}&where={}{}'.format(query.replace(' ', '-'), location.replace(' ', '-').replace(',', 'C'), url_job_id)"
   ]
  },
  {
   "cell_type": "code",
   "execution_count": 8,
   "metadata": {},
   "outputs": [
    {
     "data": {
      "text/plain": [
       "'https://www.monster.com/jobs/search/?q=software-engineer&where=ChicagoC-IL'"
      ]
     },
     "execution_count": 8,
     "metadata": {},
     "output_type": "execute_result"
    }
   ],
   "source": [
    "url"
   ]
  },
  {
   "cell_type": "code",
   "execution_count": null,
   "metadata": {},
   "outputs": [],
   "source": []
  }
 ],
 "metadata": {
  "kernelspec": {
   "display_name": "Python 3",
   "language": "python",
   "name": "python3"
  },
  "language_info": {
   "codemirror_mode": {
    "name": "ipython",
    "version": 3
   },
   "file_extension": ".py",
   "mimetype": "text/x-python",
   "name": "python",
   "nbconvert_exporter": "python",
   "pygments_lexer": "ipython3",
   "version": "3.7.1"
  }
 },
 "nbformat": 4,
 "nbformat_minor": 2
}
