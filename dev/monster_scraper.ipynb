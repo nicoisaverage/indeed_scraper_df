{
 "cells": [
  {
   "cell_type": "code",
   "execution_count": 1,
   "metadata": {},
   "outputs": [],
   "source": [
    "import sys\n",
    "sys.path.append('../src')"
   ]
  },
  {
   "cell_type": "code",
   "execution_count": 5,
   "metadata": {},
   "outputs": [],
   "source": [
    "import indeed_to_df\n",
    "from indeed_to_df import *"
   ]
  },
  {
   "cell_type": "code",
   "execution_count": 4,
   "metadata": {},
   "outputs": [
    {
     "ename": "SyntaxError",
     "evalue": "unexpected EOF while parsing (<ipython-input-4-14e7a052ba58>, line 10)",
     "output_type": "error",
     "traceback": [
      "\u001b[1;36m  File \u001b[1;32m\"<ipython-input-4-14e7a052ba58>\"\u001b[1;36m, line \u001b[1;32m10\u001b[0m\n\u001b[1;33m    url = 'https://www.monster.com/jobs/search/?q={}&where={}{}'.format(query.replace(' ', '-', location.replace(' ', '-').replace(',', 'C'), url_job_id)\u001b[0m\n\u001b[1;37m                                                                                                                                                         ^\u001b[0m\n\u001b[1;31mSyntaxError\u001b[0m\u001b[1;31m:\u001b[0m unexpected EOF while parsing\n"
     ]
    }
   ],
   "source": [
    "query = 'software engineer'\n",
    "location = 'Chicago, IL'\n",
    "jobid = False\n",
    "\n",
    "if jobid:\n",
    "    url_job_id = '&jobid=' + jobid\n",
    "else:\n",
    "    url_job_id = ''\n",
    "    \n",
    "url = 'https://www.monster.com/jobs/search/?q={}&where={}{}'.format(query.replace(' ', '-', location.replace(' ', '-').replace(',', 'C'), url_job_id)"
   ]
  },
  {
   "cell_type": "code",
   "execution_count": null,
   "metadata": {},
   "outputs": [],
   "source": []
  }
 ],
 "metadata": {
  "kernelspec": {
   "display_name": "Python 3",
   "language": "python",
   "name": "python3"
  },
  "language_info": {
   "codemirror_mode": {
    "name": "ipython",
    "version": 3
   },
   "file_extension": ".py",
   "mimetype": "text/x-python",
   "name": "python",
   "nbconvert_exporter": "python",
   "pygments_lexer": "ipython3",
   "version": "3.7.1"
  }
 },
 "nbformat": 4,
 "nbformat_minor": 2
}
